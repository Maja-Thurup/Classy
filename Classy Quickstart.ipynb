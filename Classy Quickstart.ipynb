{
 "cells": [
  {
   "cell_type": "markdown",
   "metadata": {},
   "source": [
    "# Classy Demo"
   ]
  },
  {
   "cell_type": "markdown",
   "metadata": {},
   "source": [
    "<div class=\"alert alert-block alert-info\">\n",
    "<b>Note:</b> As you can see below, Classy allows anyone to spin up basic ML classification workflow in less than 10 lines of code.\n",
    "</div>"
   ]
  },
  {
   "cell_type": "code",
   "execution_count": 2,
   "metadata": {
    "scrolled": false
   },
   "outputs": [],
   "source": [
    "from ipynb.fs.full.Classy import Classy"
   ]
  },
  {
   "cell_type": "code",
   "execution_count": 3,
   "metadata": {},
   "outputs": [
    {
     "name": "stdout",
     "output_type": "stream",
     "text": [
      "\n",
      "––––––––––––––––––––––––––––––––––––\n",
      "\u001b[1mWelcome to CLASSY!\u001b[0m\n",
      "––––––––––––––––––––––––––––––––––––\n",
      "\n",
      "Call the \u001b[94mabout()\u001b[0m function to learn more about how CLASSY works.\n",
      "OR Call the \u001b[94mobtain()\u001b[0m function to select your data and get started.\n",
      "\n"
     ]
    }
   ],
   "source": [
    "c = Classy()"
   ]
  },
  {
   "cell_type": "code",
   "execution_count": 4,
   "metadata": {},
   "outputs": [
    {
     "name": "stdout",
     "output_type": "stream",
     "text": [
      "\n",
      "------------------------------------\n",
      "Obtaining Your Data\n",
      "------------------------------------\n",
      "\u001b[1m\n",
      "Select The File You Want to Work With\n",
      "\u001b[0m\n",
      "I found \u001b[94m\u001b[1m5\u001b[0m CSV files in your directory that we can get started with.\n",
      "Which data set do you want to work with?\n",
      "\n",
      "1 - demo-iris.csv\n",
      "2 - demo-flightdelays.csv\n",
      "3 - demo-kickstartersuccess.csv\n",
      "4 - demo-banknote_authentication.csv\n",
      "5 - demo-heartdisease.csv\n",
      "\u001b[92m\n",
      "Enter the number of the file\u001b[0m\n",
      "1\n",
      "\u001b[1m\n",
      "Identify Target\n",
      "\u001b[0m\n",
      "\u001b[1m 1: sepal length \u001b[0m (DType: float64 – NUnique: 35 )\n",
      "\u001b[1m 2: sepal width in cm \u001b[0m (DType: float64 – NUnique: 23 )\n",
      "\u001b[1m 3: petal length in cm \u001b[0m (DType: float64 – NUnique: 43 )\n",
      "\u001b[1m 4: petal width in cm \u001b[0m (DType: float64 – NUnique: 22 )\n",
      "\u001b[1m 5: class (target) \u001b[0m (DType: object – NUnique: 3 )\n",
      "Which of these columns represents the category you are trying to predict? Type in the associated column number below.\n",
      "5\n",
      "\n",
      "Target Variable Selected = \u001b[94mclass (target)\u001b[0m\n",
      "\u001b[1m\n",
      "Next Steps\n",
      "\u001b[0m\n",
      "\n",
      "Great. All set to get started with demo-iris.csv. Call the\u001b[94m scrub()\u001b[0m function to continue.\n",
      "\n",
      "You can also explore the unscrubbed dataset by calling the \u001b[94mexplore()\u001b[0m function.\n",
      "\n",
      "Lastly, If your file is already scrubbed and model ready, you can proceed straight to the \u001b[94m model()\u001b[0m function.\n"
     ]
    }
   ],
   "source": [
    "c.obtain()"
   ]
  },
  {
   "cell_type": "code",
   "execution_count": 5,
   "metadata": {},
   "outputs": [
    {
     "name": "stdout",
     "output_type": "stream",
     "text": [
      "\n",
      "------------------------------------\n",
      "Exploring Your Data\n",
      "------------------------------------\n",
      "\u001b[4mPlease be patient... this may take a minute if you have a lot of data.\u001b[0m\n",
      "Would you like to do a simple explore (.head, .info, .describe) or an advanced explore (using pandas profiling) Enter 1 for simple, or 2 for advanced.\n",
      "1\n",
      "\n",
      "Exploring original (unscrubbed) dataset. You can call .scrub() on the object to explore the scrubbed dataset later.\n",
      "\n",
      "\u001b[94m\u001b[1mBasic Info\u001b[0m\n",
      "<class 'pandas.core.frame.DataFrame'>\n",
      "RangeIndex: 149 entries, 0 to 148\n",
      "Data columns (total 5 columns):\n",
      " #   Column              Non-Null Count  Dtype  \n",
      "---  ------              --------------  -----  \n",
      " 0   sepal length        149 non-null    float64\n",
      " 1   sepal width in cm   149 non-null    float64\n",
      " 2   petal length in cm  149 non-null    float64\n",
      " 3   petal width in cm   149 non-null    float64\n",
      " 4   class (target)      149 non-null    object \n",
      "dtypes: float64(4), object(1)\n",
      "memory usage: 5.9+ KB\n",
      "\n",
      "\u001b[94m\u001b[1mFirst 5 Rows\u001b[0m\n"
     ]
    },
    {
     "data": {
      "text/html": [
       "<table border=\"1\" class=\"dataframe\">\n",
       "  <thead>\n",
       "    <tr style=\"text-align: right;\">\n",
       "      <th></th>\n",
       "      <th>sepal length</th>\n",
       "      <th>sepal width in cm</th>\n",
       "      <th>petal length in cm</th>\n",
       "      <th>petal width in cm</th>\n",
       "      <th>class (target)</th>\n",
       "    </tr>\n",
       "  </thead>\n",
       "  <tbody>\n",
       "    <tr>\n",
       "      <th>0</th>\n",
       "      <td>4.9</td>\n",
       "      <td>3.0</td>\n",
       "      <td>1.4</td>\n",
       "      <td>0.2</td>\n",
       "      <td>Iris-setosa</td>\n",
       "    </tr>\n",
       "    <tr>\n",
       "      <th>1</th>\n",
       "      <td>4.7</td>\n",
       "      <td>3.2</td>\n",
       "      <td>1.3</td>\n",
       "      <td>0.2</td>\n",
       "      <td>Iris-setosa</td>\n",
       "    </tr>\n",
       "    <tr>\n",
       "      <th>2</th>\n",
       "      <td>4.6</td>\n",
       "      <td>3.1</td>\n",
       "      <td>1.5</td>\n",
       "      <td>0.2</td>\n",
       "      <td>Iris-setosa</td>\n",
       "    </tr>\n",
       "    <tr>\n",
       "      <th>3</th>\n",
       "      <td>5.0</td>\n",
       "      <td>3.6</td>\n",
       "      <td>1.4</td>\n",
       "      <td>0.2</td>\n",
       "      <td>Iris-setosa</td>\n",
       "    </tr>\n",
       "    <tr>\n",
       "      <th>4</th>\n",
       "      <td>5.4</td>\n",
       "      <td>3.9</td>\n",
       "      <td>1.7</td>\n",
       "      <td>0.4</td>\n",
       "      <td>Iris-setosa</td>\n",
       "    </tr>\n",
       "  </tbody>\n",
       "</table>"
      ],
      "text/plain": [
       "<IPython.core.display.HTML object>"
      ]
     },
     "metadata": {},
     "output_type": "display_data"
    },
    {
     "name": "stdout",
     "output_type": "stream",
     "text": [
      "\n",
      "\u001b[94m\u001b[1mDescriptive Statistics\u001b[0m\n"
     ]
    },
    {
     "data": {
      "text/html": [
       "<table border=\"1\" class=\"dataframe\">\n",
       "  <thead>\n",
       "    <tr style=\"text-align: right;\">\n",
       "      <th></th>\n",
       "      <th>sepal length</th>\n",
       "      <th>sepal width in cm</th>\n",
       "      <th>petal length in cm</th>\n",
       "      <th>petal width in cm</th>\n",
       "    </tr>\n",
       "  </thead>\n",
       "  <tbody>\n",
       "    <tr>\n",
       "      <th>count</th>\n",
       "      <td>149.000000</td>\n",
       "      <td>149.000000</td>\n",
       "      <td>149.000000</td>\n",
       "      <td>149.000000</td>\n",
       "    </tr>\n",
       "    <tr>\n",
       "      <th>mean</th>\n",
       "      <td>5.848322</td>\n",
       "      <td>3.051007</td>\n",
       "      <td>3.774497</td>\n",
       "      <td>1.205369</td>\n",
       "    </tr>\n",
       "    <tr>\n",
       "      <th>std</th>\n",
       "      <td>0.828594</td>\n",
       "      <td>0.433499</td>\n",
       "      <td>1.759651</td>\n",
       "      <td>0.761292</td>\n",
       "    </tr>\n",
       "    <tr>\n",
       "      <th>min</th>\n",
       "      <td>4.300000</td>\n",
       "      <td>2.000000</td>\n",
       "      <td>1.000000</td>\n",
       "      <td>0.100000</td>\n",
       "    </tr>\n",
       "    <tr>\n",
       "      <th>25%</th>\n",
       "      <td>5.100000</td>\n",
       "      <td>2.800000</td>\n",
       "      <td>1.600000</td>\n",
       "      <td>0.300000</td>\n",
       "    </tr>\n",
       "    <tr>\n",
       "      <th>50%</th>\n",
       "      <td>5.800000</td>\n",
       "      <td>3.000000</td>\n",
       "      <td>4.400000</td>\n",
       "      <td>1.300000</td>\n",
       "    </tr>\n",
       "    <tr>\n",
       "      <th>75%</th>\n",
       "      <td>6.400000</td>\n",
       "      <td>3.300000</td>\n",
       "      <td>5.100000</td>\n",
       "      <td>1.800000</td>\n",
       "    </tr>\n",
       "    <tr>\n",
       "      <th>max</th>\n",
       "      <td>7.900000</td>\n",
       "      <td>4.400000</td>\n",
       "      <td>6.900000</td>\n",
       "      <td>2.500000</td>\n",
       "    </tr>\n",
       "  </tbody>\n",
       "</table>"
      ],
      "text/plain": [
       "<IPython.core.display.HTML object>"
      ]
     },
     "metadata": {},
     "output_type": "display_data"
    }
   ],
   "source": [
    "c.explore()"
   ]
  },
  {
   "cell_type": "code",
   "execution_count": 6,
   "metadata": {
    "scrolled": false
   },
   "outputs": [
    {
     "name": "stdout",
     "output_type": "stream",
     "text": [
      "\n",
      "------------------------------------\n",
      "Scrubbing Your Data\n",
      "------------------------------------\n",
      "\n",
      "demo-iris.csv has 5 columns and 149 rows\n",
      "\n",
      "\u001b[1mStep 0. Take a sample (optional)\n",
      "\u001b[0m\n",
      "Skipping this step (since you're dataset isn't overwhelmingly large)\n",
      "\u001b[1mStep 1. Remove any target values (optional)\n",
      "\u001b[0m\n",
      "\n",
      "Your target variable has \u001b[94m3\u001b[0m unique values:\n",
      "Value counts in \u001b[91mred\u001b[0m represent less than 5% of total data (consider removing).\n",
      "\u001b[1m1: Iris-versicolor\u001b[0m 50\n",
      "\u001b[1m2: Iris-virginica\u001b[0m 50\n",
      "\u001b[1m3: Iris-setosa\u001b[0m 49\n",
      "Would you like to remove of any of these values (and the associated rows)?\n",
      "Don't worry about NAN values for now... we'll deal with that later Type (y/n) below\n",
      "n\n",
      "Iris-versicolor    50\n",
      "Iris-virginica     50\n",
      "Iris-setosa        49\n",
      "Name: class (target), dtype: int64\n",
      "\u001b[1m\n",
      "Step 2. Remove Columns (optional)\n",
      "\u001b[0m\n",
      "1: sepal length\n",
      "2: sepal width in cm\n",
      "3: petal length in cm\n",
      "4: petal width in cm\n",
      "5: class (target)\n",
      "\n",
      "Would you like to remove any of the columns? Type (y/n) below\n",
      "n\n",
      "\u001b[1m\n",
      "Step 3. Fixing Column Data Types (optional) \n",
      "\u001b[0m\n",
      "1: sepal length – DType: float64 – Examples (4.7, 4.6, 5.0)\n",
      "2: sepal width in cm – DType: float64 – Examples (3.2, 3.1, 3.6)\n",
      "3: petal length in cm – DType: float64 – Examples (1.3, 1.5, 1.4)\n",
      "4: petal width in cm – DType: float64 – Examples (0.2, 0.2, 0.2)\n",
      "5: class (target) – DType: object – Examples (Iris-setosa, Iris-setosa, Iris-setosa)\n",
      "\n",
      "Do any of these column datatypes look incorrect? Type (y/n) below\n",
      "n\n",
      "\u001b[1m\n",
      "Step 4. Dealing with Any Missing Data\n",
      "\u001b[0m\n",
      "No missing data found... Moving on!\n",
      "\n",
      "Scrub complete! You can now access your scrubbed X and Y files at OBJECT.x and OBJECT.y respectively.\n",
      "Next, call the \u001b[94mexplore() \u001b[0mfunction to select your data or you can skip straight to the \u001b[94mmodel()\u001b[0mfunction.\n"
     ]
    }
   ],
   "source": [
    "c.scrub()"
   ]
  },
  {
   "cell_type": "code",
   "execution_count": 7,
   "metadata": {
    "scrolled": false
   },
   "outputs": [
    {
     "name": "stdout",
     "output_type": "stream",
     "text": [
      "\n",
      "------------------------------------\n",
      "Modeling Your Data\n",
      "------------------------------------\n",
      "\u001b[1m\n",
      "Getting dummy variables...\u001b[0m\n",
      "Pre-Dummy Shape: (149, 4)\n",
      "Post-Dummy Shape: (149, 4)\n",
      "\u001b[1m\n",
      "Scaling your data...\u001b[0m\n",
      "Would you like to normalize (Min-Max scaler) or Standardize (standard scaler) the data?\n",
      "Enter 1 for MinMax (Recommended), 2 for Standard Scaler, or 3 to skip.\n",
      "1\n",
      "MinMax Scaler Selected\n",
      "Scaling complete.\n",
      "\n",
      "Here are the \u001b[94m\u001b[1mfirst 3 rows\u001b[0m to confirm the change was successfully made.\n"
     ]
    },
    {
     "data": {
      "text/html": [
       "<table border=\"1\" class=\"dataframe\">\n",
       "  <thead>\n",
       "    <tr style=\"text-align: right;\">\n",
       "      <th></th>\n",
       "      <th>0</th>\n",
       "      <th>1</th>\n",
       "      <th>2</th>\n",
       "      <th>3</th>\n",
       "    </tr>\n",
       "  </thead>\n",
       "  <tbody>\n",
       "    <tr>\n",
       "      <th>0</th>\n",
       "      <td>0.166667</td>\n",
       "      <td>0.416667</td>\n",
       "      <td>0.067797</td>\n",
       "      <td>0.041667</td>\n",
       "    </tr>\n",
       "    <tr>\n",
       "      <th>1</th>\n",
       "      <td>0.111111</td>\n",
       "      <td>0.500000</td>\n",
       "      <td>0.050847</td>\n",
       "      <td>0.041667</td>\n",
       "    </tr>\n",
       "    <tr>\n",
       "      <th>2</th>\n",
       "      <td>0.083333</td>\n",
       "      <td>0.458333</td>\n",
       "      <td>0.084746</td>\n",
       "      <td>0.041667</td>\n",
       "    </tr>\n",
       "  </tbody>\n",
       "</table>"
      ],
      "text/plain": [
       "<IPython.core.display.HTML object>"
      ]
     },
     "metadata": {},
     "output_type": "display_data"
    },
    {
     "name": "stdout",
     "output_type": "stream",
     "text": [
      "\u001b[1m\n",
      "Splitting up your train and test data...\u001b[0m\n",
      "\u001b[1m\n",
      "Chosing Which Models to Use...\u001b[0m\n",
      "\u001b[91m\n",
      "Heads up: \u001b[0mSelecting multiple models may result in extreme wait times.\n",
      "You can always start with 1-2 models and add more later.\n",
      "All models previously run can be compared by calling \u001b[94m.interpret()\u001b[0m later.\n",
      "\n",
      "1 Decision Tree\n",
      "2 Random Forrest\n",
      "3 AdaBoost\n",
      "4 XGBoost\n",
      "5 Linear Support Vector\n",
      "6 Neural Network\n",
      "\n",
      "Please type in the corrosponding number of each model you want to run, sepparating each number by a space.\n",
      "1 5\n",
      "['Decision Tree', True]\n",
      "['Linear Support Vector', True]\n",
      "\u001b[1m\n",
      "Training Baseline Models\u001b[0m\n",
      "\n",
      "Decision Tree Launching...\n",
      "Training Accuracy: 100.0%\n",
      "Validation accuracy: 97.37%\n",
      "\n",
      "Linear Support Vector Launching...\n",
      "Training Accuracy: 92.79%\n",
      "Validation accuracy: 89.47%\n",
      "\n",
      "The best performing model was: \u001b[95m Decision Tree – with a Test Accuracy of:  0.9737 \u001b[0m\n",
      "\u001b[1m\n",
      "Optimizing Models\u001b[0m\n",
      "\n",
      "Optimizing Decision Tree...\n",
      "Grid Search found the following optimal parameters: \n",
      "criterion: 'gini'\n",
      "max_depth: 10\n",
      "min_samples_split: 2\n",
      "random_state: 0\n",
      "Training Accuracy: 100.0%\n",
      "Validation accuracy: 97.37%\n"
     ]
    },
    {
     "data": {
      "image/png": "[encoded data removed]",
      "text/plain": [
       "<Figure size 432x288 with 2 Axes>"
      ]
     },
     "metadata": {
      "needs_background": "light"
     },
     "output_type": "display_data"
    },
    {
     "name": "stdout",
     "output_type": "stream",
     "text": [
      "\n",
      "Optimizing Linear SVC...\n",
      "Grid Search found the following optimal parameters: \n",
      "C: 100\n",
      "class_weight: None\n",
      "loss: 'squared_hinge'\n",
      "max_iter: 1000\n",
      "random_state: 0\n",
      "\n",
      "Training Accuracy: 97.3%\n",
      "Validation accuracy: 94.74%\n"
     ]
    },
    {
     "data": {
      "image/png": "[encoded data removed]",
      "text/plain": [
       "<Figure size 432x288 with 2 Axes>"
      ]
     },
     "metadata": {
      "needs_background": "light"
     },
     "output_type": "display_data"
    },
    {
     "name": "stdout",
     "output_type": "stream",
     "text": [
      "\n",
      "The best performing model was: \u001b[95m Decision Tree – with a Test Accuracy of:  0.9737 \u001b[0m\n",
      "\n",
      "Modeling Complete! Next, call the \u001b[94m.interpret()\u001b[0m function.\n"
     ]
    }
   ],
   "source": [
    "c.model()"
   ]
  },
  {
   "cell_type": "code",
   "execution_count": 8,
   "metadata": {},
   "outputs": [
    {
     "name": "stdout",
     "output_type": "stream",
     "text": [
      "\n",
      "------------------------------------\n",
      "Interpreting Your Results\n",
      "------------------------------------\n",
      "\n"
     ]
    },
    {
     "data": {
      "image/png": "[encoded data removed]",
      "text/plain": [
       "<Figure size 864x432 with 1 Axes>"
      ]
     },
     "metadata": {
      "needs_background": "light"
     },
     "output_type": "display_data"
    },
    {
     "name": "stdout",
     "output_type": "stream",
     "text": [
      "\n",
      "The best performing model was: \u001b[95m Decision Tree – with a Test Accuracy of:  0.9737 \u001b[0m\n"
     ]
    }
   ],
   "source": [
    "c.interpret()"
   ]
  },
  {
   "cell_type": "code",
   "execution_count": 9,
   "metadata": {},
   "outputs": [
    {
     "name": "stdout",
     "output_type": "stream",
     "text": [
      "\n",
      "------------------------------------\n",
      "Making a Prediction\n",
      "------------------------------------\n",
      "\u001b[1m\n",
      "Please provide the input values to make a prediction. (MUST be correct data type)\u001b[0m\n",
      "Value for: sepal length? (Type = float64) (Example = 4.9)5\n",
      "Value for: sepal width in cm? (Type = float64) (Example = 3.0)4\n",
      "Value for: petal length in cm? (Type = float64) (Example = 1.4)2\n",
      "Value for: petal width in cm? (Type = float64) (Example = 0.2).01\n",
      "\u001b[1m\n",
      "Best Performing Model Prediction\u001b[0m\n",
      "Decision Tree predicts --> \u001b[94mIris-setosa\u001b[0m\n",
      "\u001b[1m\n",
      "All Model Predictions\u001b[0m\n",
      "Decision Tree predicts --> \u001b[94mIris-setosa\u001b[0m\n",
      "Linear SVC predicts --> \u001b[94mIris-setosa\u001b[0m\n",
      "Optimized Decision Tree predicts --> \u001b[94mIris-setosa\u001b[0m\n",
      "Optimized Linear SVC predicts --> \u001b[94mIris-setosa\u001b[0m\n",
      "\u001b[1m\n",
      "Most Common Prediction \u001b[0m--> \u001b[94mIris-setosa\u001b[0m\n"
     ]
    }
   ],
   "source": [
    "c.predict()"
   ]
  },
  {
   "cell_type": "code",
   "execution_count": null,
   "metadata": {},
   "outputs": [],
   "source": []
  }
 ],
 "metadata": {
  "kernelspec": {
   "display_name": "Python 3",
   "language": "python",
   "name": "python3"
  },
  "language_info": {
   "codemirror_mode": {
    "name": "ipython",
    "version": 3
   },
   "file_extension": ".py",
   "mimetype": "text/x-python",
   "name": "python",
   "nbconvert_exporter": "python",
   "pygments_lexer": "ipython3",
   "version": "3.7.1"
  },
  "toc": {
   "base_numbering": 1,
   "nav_menu": {
    "height": "220px",
    "width": "208px"
   },
   "number_sections": true,
   "sideBar": true,
   "skip_h1_title": false,
   "title_cell": "Table of Contents",
   "title_sidebar": "Contents",
   "toc_cell": false,
   "toc_position": {},
   "toc_section_display": true,
   "toc_window_display": false
  },
  "varInspector": {
   "cols": {
    "lenName": 16,
    "lenType": 16,
    "lenVar": 40
   },
   "kernels_config": {
    "python": {
     "delete_cmd_postfix": "",
     "delete_cmd_prefix": "del ",
     "library": "var_list.py",
     "varRefreshCmd": "print(var_dic_list())"
    },
    "r": {
     "delete_cmd_postfix": ") ",
     "delete_cmd_prefix": "rm(",
     "library": "var_list.r",
     "varRefreshCmd": "cat(var_dic_list()) "
    }
   },
   "types_to_exclude": [
    "module",
    "function",
    "builtin_function_or_method",
    "instance",
    "_Feature"
   ],
   "window_display": false
  }
 },
 "nbformat": 4,
 "nbformat_minor": 2
}
